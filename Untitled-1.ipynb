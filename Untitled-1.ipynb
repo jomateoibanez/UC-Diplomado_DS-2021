{
 "metadata": {
  "language_info": {
   "codemirror_mode": {
    "name": "ipython",
    "version": 3
   },
   "file_extension": ".py",
   "mimetype": "text/x-python",
   "name": "python",
   "nbconvert_exporter": "python",
   "pygments_lexer": "ipython3",
   "version": "3.9.4"
  },
  "orig_nbformat": 2,
  "kernelspec": {
   "name": "python394jvsc74a57bd08fbf2a4a03ff90e4dea2ea02739437e04327979033cebbe6ff9eb5e366d184c1",
   "display_name": "Python 3.9.4 64-bit ('Proyectods': conda)"
  }
 },
 "nbformat": 4,
 "nbformat_minor": 2,
 "cells": [
  {
   "cell_type": "code",
   "execution_count": 25,
   "metadata": {
    "tags": []
   },
   "outputs": [
    {
     "output_type": "stream",
     "name": "stdout",
     "text": [
      "3U3VG3I8\n3U3VG3I6\n3U3VG3IE\n3U3VG3JA\n3U3VG3IK\n3U3VG3J8\n3U3VG3IM\n3U3VG3J6\n3U3VG3JC\n3U3VG3I2\n3U3VG3HU\n3U3VG3I4\n3U3VG3II\n3U3VG3IO\n3U3VG3J4\n3U3VG3IC\n3U3VG3IA\n"
     ]
    }
   ],
   "source": [
    "\"\"\" Importar librerias y definir llamada al chromedrive \"\"\"\n",
    "import selenium\n",
    "from selenium import webdriver as wb\n",
    "from selenium.webdriver.common.keys import Keys\n",
    "from selenium.webdriver.support.ui import WebDriverWait\n",
    "from selenium.webdriver.common.by import By\n",
    "import time\n",
    "import pandas as pd\n",
    "from bs4 import BeautifulSoup\n",
    "wbD = wb.Chrome('chromedriver.exe')\n",
    "\n",
    "\"\"\" Definiciones \"\"\"\n",
    "# URLs\n",
    "Elmer = \"https://digital.elmercurio.com/\"\n",
    "Fecha = \"2021/05/20/\"\n",
    "\n",
    "# Credenciales\n",
    "usuario = \"rmatiasgomezc@gmail.com\"\n",
    "contrasena = \"fondecyt\"\n",
    "\n",
    "\"\"\" TEST: Obtener ID de la portada para una fecha determinada, para luego acceder a la web 'detalle' de la portada \"\"\"\n",
    "\n",
    "# Abro el link con selenium y el chromedrive, accediendo a la fecha definida\n",
    "wbD.get(Elmer+Fecha)\n",
    "# Esperar a que carge\n",
    "time.sleep(3)\n",
    "# Guardo el ID de la portada para la fecha determinada\n",
    "ID_portada = wbD.find_element_by_xpath('/html/body/div[1]/div/div[2]/section/div[2]/div[1]/div/a').get_attribute('id')\n",
    "# Accedo a la URL \n",
    "wbD.get(Elmer+Fecha+\"A/\"+ID_portada+\"#zoom=page-width\")\n",
    "# Espero que cargue\n",
    "time.sleep(8)\n",
    "\n",
    "\"\"\" Loguearme con credenciales (Solo es necesario hacerlo una vez) \"\"\"\n",
    "\n",
    "# Encuentro elemento de usuario, e ingreso credencial\n",
    "wbD.find_element(By.ID, \"txtUsername\").send_keys(usuario)\n",
    "# Encuentro elemento de contrasena, e ingreso credencial\n",
    "wbD.find_element(By.ID, \"txtPassword\").send_keys(contrasena)\n",
    "# Presiono boton para acceder\n",
    "wbD.find_element(By.ID, \"gopram\").click()\n",
    "\n",
    "\"\"\"Identifico los IDS en portada para la fecha\"\"\"\n",
    "time.sleep(8)\n",
    "gen_articulos_div = wbD.find_elements_by_xpath(\"//article\")\n",
    "\n",
    "for articulo_div in gen_articulos_div:\n",
    "    print(articulo_div.get_attribute(\"id\"))\n",
    "\n",
    "\n",
    "\n",
    "\n"
   ]
  },
  {
   "cell_type": "code",
   "execution_count": null,
   "metadata": {},
   "outputs": [],
   "source": []
  }
 ]
}