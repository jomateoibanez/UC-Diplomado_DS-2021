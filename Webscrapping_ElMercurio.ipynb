{
 "metadata": {
  "language_info": {
   "codemirror_mode": {
    "name": "ipython",
    "version": 3
   },
   "file_extension": ".py",
   "mimetype": "text/x-python",
   "name": "python",
   "nbconvert_exporter": "python",
   "pygments_lexer": "ipython3",
   "version": "3.9.4"
  },
  "orig_nbformat": 2,
  "kernelspec": {
   "name": "python394jvsc74a57bd08fbf2a4a03ff90e4dea2ea02739437e04327979033cebbe6ff9eb5e366d184c1",
   "display_name": "Python 3.9.4 64-bit ('Proyectods': conda)"
  }
 },
 "nbformat": 4,
 "nbformat_minor": 2,
 "cells": [
  {
   "cell_type": "code",
   "execution_count": 132,
   "metadata": {
    "tags": []
   },
   "outputs": [],
   "source": [
    "\"\"\" Importar librerias y definir llamada al chromedrive \"\"\"\n",
    "# Selenium\n",
    "import selenium\n",
    "from selenium import webdriver as wb\n",
    "from selenium.webdriver.common.keys import Keys\n",
    "from selenium.webdriver.support.ui import WebDriverWait\n",
    "from selenium.webdriver.common.by import By\n",
    "# Para agregar tiempos\n",
    "import time\n",
    "# Para manejar dataframes\n",
    "import pandas as pd\n",
    "# Para manejar las cookies\n",
    "import pickle\n",
    "# Defino el comando para usar chromedriver con selenium\n",
    "wbD = wb.Chrome('chromedriver.exe')"
   ]
  },
  {
   "cell_type": "code",
   "execution_count": 133,
   "metadata": {},
   "outputs": [],
   "source": [
    "\"\"\" Obtengo ID de la portada para Fecha, luego accedo a web 'detalle' de dicha portada \"\"\"\n",
    "# Manejador de fecha\n",
    "Elmer = \"https://digital.elmercurio.com/\"\n",
    "Fecha = \"2021/05/21/A/\"\n",
    "\n",
    "# Abro el link con selenium y el chromedrive, accediendo a la fecha definida\n",
    "wbD.get(Elmer+Fecha)\n",
    "# Cargo cookies\n",
    "cookies = pickle.load(open(\"cookies.pkl\", \"rb\"))\n",
    "for cookie in cookies:\n",
    "    wbD.add_cookie(cookie)\n",
    "# Esperar a que carge\n",
    "time.sleep(3)\n",
    "# Guardo el ID de la portada para la fecha determinada\n",
    "ID_portada = wbD.find_element_by_xpath('/html/body/div[1]/div/div[2]/section/div[2]/div[1]/div/a').get_attribute('id')\n",
    "# Accedo a la URL \n",
    "wbD.get(Elmer+Fecha+ID_portada+\"#zoom=page-width\")\n",
    "# Espero que cargue\n",
    "time.sleep(8)"
   ]
  },
  {
   "cell_type": "code",
   "execution_count": 59,
   "metadata": {},
   "outputs": [
    {
     "output_type": "execute_result",
     "data": {
      "text/plain": [
       "' Ingreso con credenciales y guardo cookies (No será necesario hacerlo nuevamente: esto es solo para generar las cookies) \\n# Defino credenciales\\nusuario = \"rmatiasgomezc@gmail.com\"\\ncontrasena = \"fondecyt\"\\n\\n# Encuentro elemento de usuario, e ingreso credencial\\nwbD.find_element(By.ID, \"txtUsername\").send_keys(usuario)\\n\\n# Encuentro elemento de contrasena, e ingreso credencial\\nwbD.find_element(By.ID, \"txtPassword\").send_keys(contrasena)\\n\\n# Presiono boton para acceder\\nwbD.find_element(By.ID, \"gopram\").click()\\n\\n# Espero que cargue\\ntime.sleep(8)\\n\\n# Guardo cookies\\npickle.dump( wbD.get_cookies() , open(\"cookies.pkl\",\"wb\"))\\nfor cookie in cookies:\\n    wbD.add_cookie(cookie)\\n'"
      ]
     },
     "metadata": {},
     "execution_count": 59
    }
   ],
   "source": [
    "\"\"\" Ingreso con credenciales y guardo cookies (No será necesario hacerlo nuevamente) \n",
    "# Defino credenciales\n",
    "usuario = \"rmatiasgomezc@gmail.com\"\n",
    "contrasena = \"fondecyt\"\n",
    "\n",
    "# Encuentro elemento de usuario, e ingreso credencial\n",
    "wbD.find_element(By.ID, \"txtUsername\").send_keys(usuario)\n",
    "\n",
    "# Encuentro elemento de contrasena, e ingreso credencial\n",
    "wbD.find_element(By.ID, \"txtPassword\").send_keys(contrasena)\n",
    "\n",
    "# Presiono boton para acceder\n",
    "wbD.find_element(By.ID, \"gopram\").click()\n",
    "\n",
    "# Espero que cargue\n",
    "time.sleep(8)\n",
    "\n",
    "# Guardo cookies\n",
    "pickle.dump( wbD.get_cookies() , open(\"cookies.pkl\",\"wb\"))\n",
    "for cookie in cookies:\n",
    "    wbD.add_cookie(cookie)\n",
    "\n",
    "\n",
    "\"\"\""
   ]
  },
  {
   "cell_type": "code",
   "execution_count": 174,
   "metadata": {},
   "outputs": [
    {
     "output_type": "stream",
     "name": "stdout",
     "text": [
      "0E3VGL45\n0E3VGL43\n0E3VGL55\n0E3VGL4B\n0E3VGL4T\n0E3VGL53\n0E3VGL3T\n0E3VGL4H\n0E3VGL4V\n0E3VGL41\n0E3VGL3V\n0E3VGL4F\n0E3VGL4D\n0E3VGL49\n0E3VGL51\n0E3VGL47\n"
     ]
    },
    {
     "output_type": "error",
     "ename": "TypeError",
     "evalue": "object of type 'NoneType' has no len()",
     "traceback": [
      "\u001b[1;31m---------------------------------------------------------------------------\u001b[0m",
      "\u001b[1;31mTypeError\u001b[0m                                 Traceback (most recent call last)",
      "\u001b[1;32m<ipython-input-174-109857208f2a>\u001b[0m in \u001b[0;36m<module>\u001b[1;34m\u001b[0m\n\u001b[0;32m      6\u001b[0m     \u001b[0mIDs_articulos\u001b[0m \u001b[1;33m=\u001b[0m \u001b[0mprint\u001b[0m\u001b[1;33m(\u001b[0m\u001b[0marticulo\u001b[0m\u001b[1;33m.\u001b[0m\u001b[0mget_attribute\u001b[0m\u001b[1;33m(\u001b[0m\u001b[1;34m\"id\"\u001b[0m\u001b[1;33m)\u001b[0m\u001b[1;33m)\u001b[0m\u001b[1;33m\u001b[0m\u001b[1;33m\u001b[0m\u001b[0m\n\u001b[0;32m      7\u001b[0m \u001b[1;33m\u001b[0m\u001b[0m\n\u001b[1;32m----> 8\u001b[1;33m \u001b[0mlen\u001b[0m\u001b[1;33m(\u001b[0m\u001b[0mIDs_articulos\u001b[0m\u001b[1;33m)\u001b[0m\u001b[1;33m\u001b[0m\u001b[1;33m\u001b[0m\u001b[0m\n\u001b[0m\u001b[0;32m      9\u001b[0m \u001b[1;33m\u001b[0m\u001b[0m\n\u001b[0;32m     10\u001b[0m \u001b[1;33m\u001b[0m\u001b[0m\n",
      "\u001b[1;31mTypeError\u001b[0m: object of type 'NoneType' has no len()"
     ]
    }
   ],
   "source": [
    "\"\"\"Identifico IDS de articulos en portada\"\"\"\n",
    "articulos = wbD.find_elements_by_xpath(\"//article\")\n",
    "\n",
    "\n",
    "for articulo in articulos:\n",
    "    print(articulo.get_attribute(\"id\"))\n",
    "\n",
    "\n",
    "   \n",
    "\n",
    "\n",
    "\n"
   ]
  },
  {
   "cell_type": "code",
   "execution_count": 152,
   "metadata": {},
   "outputs": [
    {
     "output_type": "stream",
     "name": "stdout",
     "text": [
      "Alcaldes\nreelegidos en la capital analizan la derrota de los partidos tradicionales en la última votación. C 5\n"
     ]
    }
   ],
   "source": [
    "\"\"\"Obtener noticias segun ID\"\"\"\n",
    "print((wbD.find_element_by_xpath(\"//article[@id='0E3VGL47']\")).text)"
   ]
  },
  {
   "cell_type": "code",
   "execution_count": 90,
   "metadata": {},
   "outputs": [
    {
     "output_type": "execute_result",
     "data": {
      "text/plain": [
       "2"
      ]
     },
     "metadata": {},
     "execution_count": 90
    }
   ],
   "source": []
  },
  {
   "cell_type": "code",
   "execution_count": 76,
   "metadata": {},
   "outputs": [
    {
     "output_type": "error",
     "ename": "AttributeError",
     "evalue": "'list' object has no attribute 'text'",
     "traceback": [
      "\u001b[1;31m---------------------------------------------------------------------------\u001b[0m",
      "\u001b[1;31mAttributeError\u001b[0m                            Traceback (most recent call last)",
      "\u001b[1;32m<ipython-input-76-1a184817f2ff>\u001b[0m in \u001b[0;36m<module>\u001b[1;34m\u001b[0m\n\u001b[1;32m----> 1\u001b[1;33m \u001b[0mprint\u001b[0m\u001b[1;33m(\u001b[0m\u001b[0marticulos_div\u001b[0m\u001b[1;33m.\u001b[0m\u001b[0mtext\u001b[0m\u001b[1;33m)\u001b[0m\u001b[1;33m\u001b[0m\u001b[1;33m\u001b[0m\u001b[0m\n\u001b[0m",
      "\u001b[1;31mAttributeError\u001b[0m: 'list' object has no attribute 'text'"
     ]
    }
   ],
   "source": [
    "\"\"\" Sacar contenido de articulos \"\"\"\n",
    "content = wbD.find_elements_by_css_selector('#articleTitle_0E3VGL45')\n",
    "len(content)\n",
    "\n",
    "articulos_div = wbD.find_elements_by_xpath(\"//article\")\n"
   ]
  }
 ]
}