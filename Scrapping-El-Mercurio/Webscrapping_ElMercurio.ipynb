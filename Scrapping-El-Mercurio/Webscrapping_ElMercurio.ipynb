{
 "metadata": {
  "language_info": {
   "codemirror_mode": {
    "name": "ipython",
    "version": 3
   },
   "file_extension": ".py",
   "mimetype": "text/x-python",
   "name": "python",
   "nbconvert_exporter": "python",
   "pygments_lexer": "ipython3",
   "version": "3.9.5"
  },
  "orig_nbformat": 2,
  "kernelspec": {
   "name": "python395jvsc74a57bd08fbf2a4a03ff90e4dea2ea02739437e04327979033cebbe6ff9eb5e366d184c1",
   "display_name": "Python 3.9.4 64-bit ('Proyectods': conda)"
  }
 },
 "nbformat": 4,
 "nbformat_minor": 2,
 "cells": [
  {
   "cell_type": "code",
   "execution_count": 16,
   "metadata": {
    "tags": []
   },
   "outputs": [
    {
     "output_type": "stream",
     "name": "stderr",
     "text": [
      "<ipython-input-16-1fc512a8d9b2>:20: DeprecationWarning: use options instead of chrome_options\n  wbD = wb.Chrome(chrome_options=chrome_options)\n"
     ]
    }
   ],
   "source": [
    "\"\"\" Importar librerias\"\"\"\n",
    "# Selenium\n",
    "import selenium\n",
    "from selenium import webdriver as wb\n",
    "from selenium.webdriver.common.keys import Keys\n",
    "from selenium.webdriver.support.ui import WebDriverWait\n",
    "from selenium.webdriver.common.by import By\n",
    "from selenium.webdriver.chrome.options import Options\n",
    "# Para agregar tiempos\n",
    "import time\n",
    "# Para manejar dataframes\n",
    "import pandas as pd\n",
    "# Para manejar las cookies\n",
    "import pickle\n",
    "import datetime\n"
   ]
  },
  {
   "cell_type": "code",
   "execution_count": null,
   "metadata": {},
   "outputs": [],
   "source": [
    "\"\"\" Defino variables y opciones para trabajar con Selenium \"\"\"\n",
    "\n",
    "chrome_options = Options()\n",
    "chrome_options.add_argument(\"--window-size=1920,1080\")\n",
    "# Defino variable con el cual usaré  chromedriver con selenium\n",
    "wbD = wb.Chrome(chrome_options=chrome_options)\n",
    "wbD.get(\"https://digital.elmercurio.com/\")\n",
    "# Cargo cookies (Esto es relevante ya que cookies identifican estoy logeado y ya he visitado ejemplares pasados)\n",
    "cookies = pickle.load(open(\"cookies.pkl\", \"rb\"))\n",
    "for cookie in cookies:\n",
    "    wbD.add_cookie(cookie)\n",
    "time.sleep(3)"
   ]
  },
  {
   "cell_type": "code",
   "execution_count": 17,
   "metadata": {},
   "outputs": [],
   "source": [
    "\"\"\"Genero lista con fechas a ser usadas para cambiar URLs \"\"\"\n",
    "\n",
    "# Comienzo definiendo variables de delta, fecha inicio y fecha fin\n",
    "delta_dias = datetime.timedelta(days=1)\n",
    "fecha_inicio = datetime.date(2018, 1, 1)\n",
    "fecha_fin = datetime.date.today()\n",
    "\n",
    "# Genero lista según lo que indique arriba; se formatea el formato para para que coincida con como son las URL del sitio\n",
    "fechas_2018_a_hoy=[]\n",
    "for i in range((fecha_fin - fecha_inicio).days):\n",
    "    fechas_2018_a_hoy.append((fecha_inicio + i*delta_dias).strftime('%Y/%m/%d'))\n"
   ]
  },
  {
   "cell_type": "code",
   "execution_count": 18,
   "metadata": {},
   "outputs": [],
   "source": [
    "\"\"\" Crawlwer \"\"\"\n",
    "id_portada=[]\n",
    "fecha_publicacion=[]\n",
    "ids_articulos=[]\n",
    "contenidos_articulos=[]\n",
    "for fecha in fechas_2018_a_hoy:\n",
    "    # Visito URL según fecha\n",
    "    url = wbD.get('https://digital.elmercurio.com/'+fecha+\"/A\")\n",
    "    url\n",
    "    # Guardo el ID de la portada de la fecha en la que estoy\n",
    "    ID_portada = wbD.find_element_by_xpath('/html/body/div[1]/div/div[2]/section/div[2]/div[1]/div/a').get_attribute('id')\n",
    "    # Visitio URL de detalle de la portada, integrando la fecha (según lista generada en bloque pasado) y el ID (según lo guardado anteriormente)\n",
    "    wbD.get('https://digital.elmercurio.com/'+fecha+\"/A/\"+ID_portada+\"#zoom=page-width\")\n",
    "    articulos = wbD.find_elements_by_xpath(\"//article\")\n",
    "    for articulo in articulos:\n",
    "        id_portada.append(ID_portada)\n",
    "        fecha_publicacion.append(fecha)\n",
    "        ids_articulos.append(articulo.get_attribute(\"id\"))\n",
    "        contenidos_articulos.append(articulo.text)\n",
    "\n",
    "df = pd.DataFrame(list(zip(id_portada, fecha_publicacion, ids_articulos, contenidos_articulos)),\n",
    "                    columns=['ID_portada', 'fecha_publicacion', 'id_Articulo', 'contenido_articulo'])\n",
    "df.to_excel(\"base_historica_EyN2.xlsx\")\n"
   ]
  },
  {
   "cell_type": "code",
   "execution_count": 162,
   "metadata": {},
   "outputs": [],
   "source": [
    "\"\"\" Obtengo ID de la portada para Fecha, luego accedo a web 'detalle' de dicha portada \"\"\"\n",
    "# Cargo cookies\n",
    "cookies = pickle.load(open(\"cookies.pkl\", \"rb\"))\n",
    "for cookie in cookies:\n",
    "    wbD.add_cookie(cookie)\n",
    "time.sleep(3)\n",
    "# Manejador de fecha\n",
    "Fecha = \"2018/05/23\"\n",
    "\n",
    "# Abro el link con selenium y el chromedrive, accediendo a la fecha definida\n",
    "wbD.get('https://digital.elmercurio.com/'+Fecha)\n",
    "time.sleep(3)\n",
    "# Guardo el ID de la portada para la fecha determinada\n",
    "ID_portada = wbD.find_element_by_xpath('/html/body/div[1]/div/div[2]/section/div[2]/div[1]/div/a').get_attribute('id')\n",
    "# Accedo a la URL \n",
    "wbD.get('https://digital.elmercurio.com/'+Fecha+\"/A/\"+ID_portada+\"#zoom=page-width\")"
   ]
  },
  {
   "cell_type": "code",
   "execution_count": 163,
   "metadata": {},
   "outputs": [
    {
     "output_type": "execute_result",
     "data": {
      "text/plain": [
       "   ID_portada fecha_publicacion id_Articulo  \\\n",
       "0    293C84J8        2018/05/23    3R3CVI3T   \n",
       "1    293C84J8        2018/05/23    3R3CVI39   \n",
       "2    293C84J8        2018/05/23    3R3CVI41   \n",
       "3    293C84J8        2018/05/23    3R3CVI31   \n",
       "4    293C84J8        2018/05/23    3R3CVI2V   \n",
       "5    293C84J8        2018/05/23    3R3CVI3F   \n",
       "6    293C84J8        2018/05/23    3R3CVI33   \n",
       "7    293C84J8        2018/05/23    3R3CVI43   \n",
       "8    293C84J8        2018/05/23    3R3CVI3V   \n",
       "9    293C84J8        2018/05/23    3R3CVI3J   \n",
       "10   293C84J8        2018/05/23    6V3CVI9G   \n",
       "11   293C84J8        2018/05/23    3R3CVI3B   \n",
       "12   293C84J8        2018/05/23    3R3CVI35   \n",
       "13   293C84J8        2018/05/23    3R3CVI3D   \n",
       "14   293C84J8        2018/05/23    3R3CVI3H   \n",
       "15   293C84J8        2018/05/23    3R3CVI3N   \n",
       "\n",
       "                                   contenido_articulo  \n",
       "0   Ministro del Interior anunció que pedirán pres...  \n",
       "1   Tras información publicada por “El Mercurio” s...  \n",
       "2   Transportes prioriza proyecto de tren rápido e...  \n",
       "3   En la jornada de ayer martes:\\nSEÑALES ECONÓMI...  \n",
       "4   Entre el 1 y 3 de junio:\\nPapa recibirá a cinc...  \n",
       "5   Juez decreta el sobreseimiento definitivo para...  \n",
       "6   Ignacio Sánchez (UC) dijo que debe ponerse el ...  \n",
       "7   La U no tiene consuelo Perdió anoche 2-0 ante ...  \n",
       "8   A los 85 años muere el escritor Philip Roth, a...  \n",
       "9   Frase del día\\nUna de nuestras prioridades es ...  \n",
       "10  Investigación\\nFiscalía Militar somete a proce...  \n",
       "11  Venezuela\\ns Nicolás Maduro es proclamado ofic...  \n",
       "12  La cuarta parte de la población del planeta se...  \n",
       "13  Agenda Mujer\\nEjecutivo anuncia hoy cambios a ...  \n",
       "14  El tiempo hoy\\nSANTIAGO\\n5°/24°\\nMayormente de...  \n",
       "15                                                     "
      ],
      "text/html": "<div>\n<style scoped>\n    .dataframe tbody tr th:only-of-type {\n        vertical-align: middle;\n    }\n\n    .dataframe tbody tr th {\n        vertical-align: top;\n    }\n\n    .dataframe thead th {\n        text-align: right;\n    }\n</style>\n<table border=\"1\" class=\"dataframe\">\n  <thead>\n    <tr style=\"text-align: right;\">\n      <th></th>\n      <th>ID_portada</th>\n      <th>fecha_publicacion</th>\n      <th>id_Articulo</th>\n      <th>contenido_articulo</th>\n    </tr>\n  </thead>\n  <tbody>\n    <tr>\n      <th>0</th>\n      <td>293C84J8</td>\n      <td>2018/05/23</td>\n      <td>3R3CVI3T</td>\n      <td>Ministro del Interior anunció que pedirán pres...</td>\n    </tr>\n    <tr>\n      <th>1</th>\n      <td>293C84J8</td>\n      <td>2018/05/23</td>\n      <td>3R3CVI39</td>\n      <td>Tras información publicada por “El Mercurio” s...</td>\n    </tr>\n    <tr>\n      <th>2</th>\n      <td>293C84J8</td>\n      <td>2018/05/23</td>\n      <td>3R3CVI41</td>\n      <td>Transportes prioriza proyecto de tren rápido e...</td>\n    </tr>\n    <tr>\n      <th>3</th>\n      <td>293C84J8</td>\n      <td>2018/05/23</td>\n      <td>3R3CVI31</td>\n      <td>En la jornada de ayer martes:\\nSEÑALES ECONÓMI...</td>\n    </tr>\n    <tr>\n      <th>4</th>\n      <td>293C84J8</td>\n      <td>2018/05/23</td>\n      <td>3R3CVI2V</td>\n      <td>Entre el 1 y 3 de junio:\\nPapa recibirá a cinc...</td>\n    </tr>\n    <tr>\n      <th>5</th>\n      <td>293C84J8</td>\n      <td>2018/05/23</td>\n      <td>3R3CVI3F</td>\n      <td>Juez decreta el sobreseimiento definitivo para...</td>\n    </tr>\n    <tr>\n      <th>6</th>\n      <td>293C84J8</td>\n      <td>2018/05/23</td>\n      <td>3R3CVI33</td>\n      <td>Ignacio Sánchez (UC) dijo que debe ponerse el ...</td>\n    </tr>\n    <tr>\n      <th>7</th>\n      <td>293C84J8</td>\n      <td>2018/05/23</td>\n      <td>3R3CVI43</td>\n      <td>La U no tiene consuelo Perdió anoche 2-0 ante ...</td>\n    </tr>\n    <tr>\n      <th>8</th>\n      <td>293C84J8</td>\n      <td>2018/05/23</td>\n      <td>3R3CVI3V</td>\n      <td>A los 85 años muere el escritor Philip Roth, a...</td>\n    </tr>\n    <tr>\n      <th>9</th>\n      <td>293C84J8</td>\n      <td>2018/05/23</td>\n      <td>3R3CVI3J</td>\n      <td>Frase del día\\nUna de nuestras prioridades es ...</td>\n    </tr>\n    <tr>\n      <th>10</th>\n      <td>293C84J8</td>\n      <td>2018/05/23</td>\n      <td>6V3CVI9G</td>\n      <td>Investigación\\nFiscalía Militar somete a proce...</td>\n    </tr>\n    <tr>\n      <th>11</th>\n      <td>293C84J8</td>\n      <td>2018/05/23</td>\n      <td>3R3CVI3B</td>\n      <td>Venezuela\\ns Nicolás Maduro es proclamado ofic...</td>\n    </tr>\n    <tr>\n      <th>12</th>\n      <td>293C84J8</td>\n      <td>2018/05/23</td>\n      <td>3R3CVI35</td>\n      <td>La cuarta parte de la población del planeta se...</td>\n    </tr>\n    <tr>\n      <th>13</th>\n      <td>293C84J8</td>\n      <td>2018/05/23</td>\n      <td>3R3CVI3D</td>\n      <td>Agenda Mujer\\nEjecutivo anuncia hoy cambios a ...</td>\n    </tr>\n    <tr>\n      <th>14</th>\n      <td>293C84J8</td>\n      <td>2018/05/23</td>\n      <td>3R3CVI3H</td>\n      <td>El tiempo hoy\\nSANTIAGO\\n5°/24°\\nMayormente de...</td>\n    </tr>\n    <tr>\n      <th>15</th>\n      <td>293C84J8</td>\n      <td>2018/05/23</td>\n      <td>3R3CVI3N</td>\n      <td></td>\n    </tr>\n  </tbody>\n</table>\n</div>"
     },
     "metadata": {},
     "execution_count": 163
    }
   ],
   "source": [
    "# Defino STRING ids_articulos y contenido_articulos\n",
    "id_portada=[]\n",
    "fecha_publicacion=[]\n",
    "ids_articulos=[]\n",
    "contenidos_articulos=[]\n",
    "# Encuentro los distitons articulos en la página\n",
    "articulos = wbD.find_elements_by_xpath(\"//article\")\n",
    "# Genero loop para cada encontrar en cada articulo de los articulos: \n",
    "for articulo in articulos:\n",
    "    id_portada.append(ID_portada)\n",
    "    fecha_publicacion.append(Fecha)\n",
    "    ids_articulos.append(articulo.get_attribute(\"id\"))\n",
    "    contenidos_articulos.append(articulo.text)\n",
    "    \n",
    "\n",
    "    \n",
    "\"\"\"\n",
    "print(len(ids_articulos))\n",
    "print(len(contenido_articulos))\n",
    "print(ids_articulos)\n",
    "print(contenido_articulos)\n",
    "\"\"\"\n",
    "\n",
    "df = pd.DataFrame(list(zip(id_portada, fecha_publicacion, ids_articulos, contenidos_articulos)),\n",
    "                    columns=['ID_portada', 'fecha_publicacion', 'id_Articulo', 'contenido_articulo'])\n",
    "df.to_excel(\"base.xlsx\")\n",
    "df\n",
    "\n"
   ]
  },
  {
   "cell_type": "code",
   "execution_count": null,
   "metadata": {},
   "outputs": [],
   "source": [
    "\"\"\"print((wbD.find_element_by_xpath(\"//article[@id='0E3VGL47']\")).text)\n",
    "\n",
    "def encontrar_art():\n",
    "    wbD.find_element_by_xpath()\n",
    "\"\"\"\n",
    "   \n",
    "\"\"\"Obtener noticias segun ID\"\"\"\n",
    "\n",
    "\n",
    "\"\"\"\n",
    "print((wbD.find_element_by_xpath(\"//article[@id='0E3VGL47']\")).text)\"\"\""
   ]
  },
  {
   "cell_type": "code",
   "execution_count": null,
   "metadata": {},
   "outputs": [],
   "source": [
    "\"\"\"vermas = wbD.find_elements_by_xpath(\"//*[contains(@onclick, 'showfulltext')]\")\n",
    "for i in vermas:\n",
    "    i.click()\n",
    "    time.sleep(1)\"\"\"\n",
    "\"\"\" Ingreso con credenciales y guardo cookies (No será necesario hacerlo nuevamente) \n",
    "# Defino credenciales\n",
    "usuario = \"rmatiasgomezc@gmail.com\"\n",
    "contrasena = \"fondecyt\"\n",
    "\n",
    "# Encuentro elemento de usuario, e ingreso credencial\n",
    "wbD.find_element(By.ID, \"txtUsername\").send_keys(usuario)\n",
    "\n",
    "# Encuentro elemento de contrasena, e ingreso credencial\n",
    "wbD.find_element(By.ID, \"txtPassword\").send_keys(contrasena)\n",
    "\n",
    "# Presiono boton para acceder\n",
    "wbD.find_element(By.ID, \"gopram\").click()\n",
    "\n",
    "# Espero que cargue\n",
    "time.sleep(8)\n",
    "\n",
    "# Guardo cookies\n",
    "pickle.dump( wbD.get_cookies() , open(\"cookies.pkl\",\"wb\"))\n",
    "for cookie in cookies:\n",
    "    wbD.add_cookie(cookie)\n",
    "\n",
    "\n",
    "\"\"\"\n",
    "\n",
    "\"\"\" Sacar contenido de articulos \"\"\"\n",
    "content = wbD.find_elements_by_css_selector('#articleTitle_0E3VGL45')\n",
    "len(content)\n",
    "\n",
    "\"\"\"\n",
    "all_spans = driver.find_elements_by_xpath(\"//span[@class='class']\")\n",
    "for span in all_spans:\n",
    "    print span.text\n"
   ]
  }
 ]
}